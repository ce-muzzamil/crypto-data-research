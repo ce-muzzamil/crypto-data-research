{
 "cells": [
  {
   "cell_type": "code",
   "execution_count": 1,
   "metadata": {},
   "outputs": [],
   "source": [
    "import numpy as np\n",
    "import pandas as pd\n",
    "from matplotlib import pyplot as plt\n",
    "np.set_printoptions(precision=3, linewidth=2*75, suppress=False)\n",
    "from IPython.display import clear_output\n",
    "from rise_and_fall import *\n",
    "from dataset import Dataset\n",
    "import json"
   ]
  },
  {
   "cell_type": "code",
   "execution_count": 65,
   "metadata": {},
   "outputs": [],
   "source": [
    "f = pd.read_csv(\"database/BTCUSDT.csv\")"
   ]
  },
  {
   "cell_type": "code",
   "execution_count": 3,
   "metadata": {},
   "outputs": [
    {
     "data": {
      "text/html": [
       "<div>\n",
       "<style scoped>\n",
       "    .dataframe tbody tr th:only-of-type {\n",
       "        vertical-align: middle;\n",
       "    }\n",
       "\n",
       "    .dataframe tbody tr th {\n",
       "        vertical-align: top;\n",
       "    }\n",
       "\n",
       "    .dataframe thead th {\n",
       "        text-align: right;\n",
       "    }\n",
       "</style>\n",
       "<table border=\"1\" class=\"dataframe\">\n",
       "  <thead>\n",
       "    <tr style=\"text-align: right;\">\n",
       "      <th></th>\n",
       "      <th>stime</th>\n",
       "      <th>meanp</th>\n",
       "      <th>stdp</th>\n",
       "      <th>vol</th>\n",
       "      <th>taker</th>\n",
       "      <th>maker</th>\n",
       "      <th>ntrds</th>\n",
       "    </tr>\n",
       "  </thead>\n",
       "  <tbody>\n",
       "    <tr>\n",
       "      <th>0</th>\n",
       "      <td>1502942400000</td>\n",
       "      <td>4266.250</td>\n",
       "      <td>9.540000</td>\n",
       "      <td>9333.620962</td>\n",
       "      <td>0.223826</td>\n",
       "      <td>0.776174</td>\n",
       "      <td>9</td>\n",
       "    </tr>\n",
       "    <tr>\n",
       "      <th>1</th>\n",
       "      <td>1502942700000</td>\n",
       "      <td>4261.480</td>\n",
       "      <td>0.000000</td>\n",
       "      <td>0.000000</td>\n",
       "      <td>0.000000</td>\n",
       "      <td>0.000000</td>\n",
       "      <td>0</td>\n",
       "    </tr>\n",
       "    <tr>\n",
       "      <th>2</th>\n",
       "      <td>1502943000000</td>\n",
       "      <td>4261.480</td>\n",
       "      <td>0.000000</td>\n",
       "      <td>0.000000</td>\n",
       "      <td>0.000000</td>\n",
       "      <td>0.000000</td>\n",
       "      <td>0</td>\n",
       "    </tr>\n",
       "    <tr>\n",
       "      <th>3</th>\n",
       "      <td>1502943300000</td>\n",
       "      <td>4262.330</td>\n",
       "      <td>1.700000</td>\n",
       "      <td>2065.447829</td>\n",
       "      <td>0.176339</td>\n",
       "      <td>0.823661</td>\n",
       "      <td>9</td>\n",
       "    </tr>\n",
       "    <tr>\n",
       "      <th>4</th>\n",
       "      <td>1502943600000</td>\n",
       "      <td>4265.585</td>\n",
       "      <td>0.814064</td>\n",
       "      <td>9931.161124</td>\n",
       "      <td>0.664141</td>\n",
       "      <td>0.335859</td>\n",
       "      <td>11</td>\n",
       "    </tr>\n",
       "  </tbody>\n",
       "</table>\n",
       "</div>"
      ],
      "text/plain": [
       "           stime     meanp      stdp          vol     taker     maker  ntrds\n",
       "0  1502942400000  4266.250  9.540000  9333.620962  0.223826  0.776174      9\n",
       "1  1502942700000  4261.480  0.000000     0.000000  0.000000  0.000000      0\n",
       "2  1502943000000  4261.480  0.000000     0.000000  0.000000  0.000000      0\n",
       "3  1502943300000  4262.330  1.700000  2065.447829  0.176339  0.823661      9\n",
       "4  1502943600000  4265.585  0.814064  9931.161124  0.664141  0.335859     11"
      ]
     },
     "metadata": {},
     "output_type": "display_data"
    },
    {
     "name": "stdout",
     "output_type": "stream",
     "text": [
      "['stime', 'meanp', 'stdp', 'vol', 'taker', 'maker', 'ntrds']\n"
     ]
    }
   ],
   "source": [
    "nf = pd.DataFrame()\n",
    "nf[\"stime\"] = f.loc[:, \"0\"]\n",
    "nf[\"meanp\"] = f.loc[:, [str(i) for i in [1,2,3,4]]].mean(axis=1)\n",
    "nf[\"stdp\"] = f.loc[:, [str(i) for i in [1,2,3,4]]].std(axis=1)\n",
    "nf[\"vol\"] = f.loc[:, \"7\"]\n",
    "nf[\"taker\"] = f.loc[:, \"10\"]/f.loc[:, \"7\"]\n",
    "nf[\"maker\"] = (f.loc[:, \"7\"]-f.loc[:, \"10\"])/f.loc[:, \"7\"]\n",
    "nf.fillna(0.0, inplace=True)\n",
    "nf[\"ntrds\"] = f.loc[:, \"8\"]\n",
    "display(nf.head())\n",
    "print(nf.columns.to_list())"
   ]
  },
  {
   "cell_type": "code",
   "execution_count": 4,
   "metadata": {},
   "outputs": [],
   "source": [
    "def get_frame(at=50000, length=288):\n",
    "    return nf.iloc[at:at+length, :]\n",
    "    \n",
    "def plot_frame(f:pd.DataFrame, mxis=[], mnis=[], mark=None):\n",
    "    ps = f[\"meanp\"].to_numpy()\n",
    "    mn = ps.min()\n",
    "    mx = ps.max()\n",
    "    plt.plot(ps)\n",
    "    if len(mxis)>0:\n",
    "        plt.vlines(x = mxis, ymin = mn, ymax = mx, colors = 'green',)\n",
    "    elif 'mxis' in f.columns:\n",
    "        plt.vlines(x = f.index[f['mxis']>0], ymin = mn, ymax = mx, colors = 'green',)\n",
    "    if len(mnis)>0:\n",
    "        plt.vlines(x = mnis, ymin = mn, ymax = mx, colors = 'red',)\n",
    "    elif 'mnis' in f.columns:\n",
    "        plt.vlines(x = f.index[f['mnis']>0], ymin = mn, ymax = mx, colors = 'red',)\n",
    "    if mark is not None:\n",
    "        plt.vlines(x = [mark], ymin = mn, ymax = mx, colors = 'blue',)\n",
    "    plt.show()\n",
    "    \n",
    "def unique(xs):\n",
    "    ys = []\n",
    "    for x in xs:\n",
    "        if x in ys:\n",
    "            continue\n",
    "        ys.append(x)\n",
    "    return ys"
   ]
  },
  {
   "cell_type": "code",
   "execution_count": 2,
   "metadata": {},
   "outputs": [],
   "source": [
    "db = Dataset()"
   ]
  },
  {
   "cell_type": "code",
   "execution_count": 4,
   "metadata": {},
   "outputs": [],
   "source": [
    "x,y1,y2 = db.prepare_dataset(batch_size=16, buy=False)"
   ]
  }
 ],
 "metadata": {
  "kernelspec": {
   "display_name": "Python 3.9.12 ('base')",
   "language": "python",
   "name": "python3"
  },
  "language_info": {
   "codemirror_mode": {
    "name": "ipython",
    "version": 3
   },
   "file_extension": ".py",
   "mimetype": "text/x-python",
   "name": "python",
   "nbconvert_exporter": "python",
   "pygments_lexer": "ipython3",
   "version": "3.9.12"
  },
  "orig_nbformat": 4,
  "vscode": {
   "interpreter": {
    "hash": "19d1d53a962d236aa061289c2ac16dc8e6d9648c89fe79f459ae9a3493bc67b4"
   }
  }
 },
 "nbformat": 4,
 "nbformat_minor": 2
}
