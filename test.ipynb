{
 "cells": [
  {
   "cell_type": "code",
   "execution_count": 3,
   "metadata": {},
   "outputs": [],
   "source": [
    "import numpy as np\n",
    "import pandas as pd\n",
    "import tensorflow as tf\n",
    "from matplotlib import pyplot as plt\n",
    "np.set_printoptions(precision=3, linewidth=2*75, suppress=False)\n",
    "from IPython.display import clear_output\n",
    "from rise_and_fall import *\n",
    "from dataset import Dataset\n",
    "import json\n",
    "import time\n",
    "from neural_network import buy_predictor"
   ]
  },
  {
   "cell_type": "code",
   "execution_count": null,
   "metadata": {},
   "outputs": [],
   "source": [
    "def plot_frame(f:pd.DataFrame, mxis=[], mnis=[], mark=None):\n",
    "    ps = f[\"meanp\"].to_numpy()\n",
    "    mn = ps.min()\n",
    "    mx = ps.max()\n",
    "    plt.plot(ps)\n",
    "    if len(mxis)>0:\n",
    "        plt.vlines(x = mxis, ymin = mn, ymax = mx, colors = 'green',)\n",
    "    elif 'mxis' in f.columns:\n",
    "        plt.vlines(x = f.index[f['mxis']>0], ymin = mn, ymax = mx, colors = 'green',)\n",
    "    if len(mnis)>0:\n",
    "        plt.vlines(x = mnis, ymin = mn, ymax = mx, colors = 'red',)\n",
    "    elif 'mnis' in f.columns:\n",
    "        plt.vlines(x = f.index[f['mnis']>0], ymin = mn, ymax = mx, colors = 'red',)\n",
    "    if mark is not None:\n",
    "        plt.vlines(x = [mark], ymin = mn, ymax = mx, colors = 'blue',)\n",
    "    plt.show()\n",
    "    \n",
    "def unique(xs):\n",
    "    ys = []\n",
    "    for x in xs:\n",
    "        if x in ys:\n",
    "            continue\n",
    "        ys.append(x)\n",
    "    return ys"
   ]
  },
  {
   "cell_type": "code",
   "execution_count": 20,
   "metadata": {},
   "outputs": [
    {
     "name": "stdout",
     "output_type": "stream",
     "text": [
      "0.00030857096359264804\n"
     ]
    },
    {
     "data": {
      "image/png": "[encoded data removed]",
      "text/plain": [
       "<Figure size 640x480 with 1 Axes>"
      ]
     },
     "metadata": {},
     "output_type": "display_data"
    }
   ],
   "source": [
    "initial_learning_rate = 0.005\n",
    "decay_rate=0.87\n",
    "decay_steps=1024*5\n",
    "y = lambda step: initial_learning_rate * (decay_rate ** (np.round(step / decay_steps, 0)))\n",
    "\n",
    "steps = np.array([i for i in range(int(100*1024))])\n",
    "plt.semilogy(steps, y(steps))\n",
    "print(y(steps)[-1])"
   ]
  }
 ],
 "metadata": {
  "kernelspec": {
   "display_name": "Python 3.9.12 ('base')",
   "language": "python",
   "name": "python3"
  },
  "language_info": {
   "codemirror_mode": {
    "name": "ipython",
    "version": 3
   },
   "file_extension": ".py",
   "mimetype": "text/x-python",
   "name": "python",
   "nbconvert_exporter": "python",
   "pygments_lexer": "ipython3",
   "version": "3.9.12"
  },
  "orig_nbformat": 4,
  "vscode": {
   "interpreter": {
    "hash": "19d1d53a962d236aa061289c2ac16dc8e6d9648c89fe79f459ae9a3493bc67b4"
   }
  }
 },
 "nbformat": 4,
 "nbformat_minor": 2
}
